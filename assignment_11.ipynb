{
 "cells": [
  {
   "attachments": {},
   "cell_type": "markdown",
   "metadata": {},
   "source": [
    "1. Create an assert statement that throws an AssertionError if the variable spam is a negative integer.\n",
    "\n",
    "Ans.\n",
    "\n"
   ]
  },
  {
   "cell_type": "code",
   "execution_count": 1,
   "metadata": {},
   "outputs": [
    {
     "ename": "AssertionError",
     "evalue": "spam cannot be a negative integer",
     "output_type": "error",
     "traceback": [
      "\u001b[1;31m---------------------------------------------------------------------------\u001b[0m",
      "\u001b[1;31mAssertionError\u001b[0m                            Traceback (most recent call last)",
      "Cell \u001b[1;32mIn[1], line 3\u001b[0m\n\u001b[0;32m      1\u001b[0m spam \u001b[39m=\u001b[39m \u001b[39m-\u001b[39m\u001b[39m5\u001b[39m\n\u001b[1;32m----> 3\u001b[0m \u001b[39massert\u001b[39;00m spam \u001b[39m>\u001b[39m\u001b[39m=\u001b[39m \u001b[39m0\u001b[39m, \u001b[39m\"\u001b[39m\u001b[39mspam cannot be a negative integer\u001b[39m\u001b[39m\"\u001b[39m\n",
      "\u001b[1;31mAssertionError\u001b[0m: spam cannot be a negative integer"
     ]
    }
   ],
   "source": [
    "spam = -5\n",
    "\n",
    "assert spam >= 0, \"spam cannot be a negative integer\"\n"
   ]
  },
  {
   "attachments": {},
   "cell_type": "markdown",
   "metadata": {},
   "source": []
  },
  {
   "attachments": {},
   "cell_type": "markdown",
   "metadata": {},
   "source": [
    "2. Write an assert statement that triggers an AssertionError if the variables eggs and bacon contain strings that are the same as each other, even if their cases are different (that is, 'hello' and 'hello' are considered the same, and 'goodbye' and 'GOODbye' are also considered the same).\n"
   ]
  },
  {
   "cell_type": "code",
   "execution_count": null,
   "metadata": {},
   "outputs": [],
   "source": [
    "#Ans2.\n",
    "eggs = \"Hello\"\n",
    "bacon = \"hello\"\n",
    "\n",
    "assert eggs.lower() != bacon.lower(), \"eggs and bacon strings should not be the same\"\n"
   ]
  },
  {
   "attachments": {},
   "cell_type": "markdown",
   "metadata": {},
   "source": [
    "3. Create an assert statement that throws an AssertionError every time.\n"
   ]
  },
  {
   "cell_type": "code",
   "execution_count": 2,
   "metadata": {},
   "outputs": [
    {
     "ename": "AssertionError",
     "evalue": "This assert statement always triggers an AssertionError",
     "output_type": "error",
     "traceback": [
      "\u001b[1;31m---------------------------------------------------------------------------\u001b[0m",
      "\u001b[1;31mAssertionError\u001b[0m                            Traceback (most recent call last)",
      "Cell \u001b[1;32mIn[2], line 1\u001b[0m\n\u001b[1;32m----> 1\u001b[0m \u001b[39massert\u001b[39;00m \u001b[39mFalse\u001b[39;00m, \u001b[39m\"\u001b[39m\u001b[39mThis assert statement always triggers an AssertionError\u001b[39m\u001b[39m\"\u001b[39m\n",
      "\u001b[1;31mAssertionError\u001b[0m: This assert statement always triggers an AssertionError"
     ]
    }
   ],
   "source": [
    "assert False, \"This assert statement always triggers an AssertionError\"\n"
   ]
  },
  {
   "cell_type": "code",
   "execution_count": null,
   "metadata": {},
   "outputs": [],
   "source": []
  },
  {
   "attachments": {},
   "cell_type": "markdown",
   "metadata": {},
   "source": [
    "4. What are the two lines that must be present in your software in order to call logging.debug()?\n"
   ]
  },
  {
   "cell_type": "code",
   "execution_count": null,
   "metadata": {},
   "outputs": [],
   "source": [
    "#ANS,4\n",
    "import logging\n",
    "logging.basicConfig(level=logging.DEBUG)\n"
   ]
  },
  {
   "cell_type": "code",
   "execution_count": null,
   "metadata": {},
   "outputs": [],
   "source": [
    "#5. What are the two lines that your program must have in order to have logging.debug() send a logging message to a file named programLog.txt?\n",
    "import logging\n",
    "\n",
    "logging.basicConfig(filename='programLog.txt', level=logging.DEBUG)\n"
   ]
  },
  {
   "attachments": {},
   "cell_type": "markdown",
   "metadata": {},
   "source": [
    "6. What are the five levels of logging?\n",
    "Ans.The five levels of logging in increasing order of severity are:\n",
    "\n",
    "DEBUG: Detailed information, typically useful only for diagnosing problems. Debug-level messages are usually intended for developers during the development and troubleshooting process.\n",
    "\n",
    "INFO: Confirmation that things are working as expected. Info-level messages provide general information about the progress or status of the application. They give a broader picture of the execution flow.\n",
    "\n",
    "WARNING: An indication that something unexpected happened or an indication of a potential problem. Warning-level messages highlight issues that could potentially cause problems or may require attention.\n",
    "\n",
    "ERROR: An indication of a more serious problem or error that has occurred. Error-level messages signify failures or errors that prevent the software from functioning as intended, but the application can still continue running.\n",
    "\n",
    "CRITICAL: A very severe error or critical condition that may cause the application to terminate. Critical-level messages highlight severe failures or errors that require immediate attention, as they can lead to the application's abnormal termination or loss of critical functionality.\n",
    "\n",
    "These five levels allow developers to categorize and prioritize log messages based on their severity and importance. By setting the logging level appropriately, you can control which messages are captured and logged based on the specific needs of your application.\n",
    "\n"
   ]
  },
  {
   "attachments": {},
   "cell_type": "markdown",
   "metadata": {},
   "source": [
    "7. What line of code would you add to your software to disable all logging messages?\n",
    "\n",
    "\n"
   ]
  },
  {
   "cell_type": "code",
   "execution_count": null,
   "metadata": {},
   "outputs": [],
   "source": [
    "#Ans.7\n",
    "logging.disable(logging.CRITICAL)\n",
    "#By using the logging.disable() function with the argument logging.CRITICAL, it disables all logging messages with severity levels of CRITICAL and below. Since CRITICAL is the highest severity level, this effectively disables all logging messages.\n",
    "\n",
    "#Make sure to have the import logging statement at the beginning of your program to use the logging module before disabling it."
   ]
  },
  {
   "attachments": {},
   "cell_type": "markdown",
   "metadata": {},
   "source": [
    "8.Why is using logging messages better than using print() to display the same message?\n",
    "Ans.Flexibility and configurability: Logging provides more flexibility and configurability compared to print() statements. With logging, you can control the output format, destination (e.g., console, file), and log levels for different parts of your code. You can enable or disable logging messages based on the severity level or adjust the log output dynamically without modifying the code. This makes it easier to manage and customize the logging behavior as per your requirements.\n",
    "\n",
    "Log levels and filtering: Logging supports different log levels (e.g., DEBUG, INFO, WARNING, ERROR, CRITICAL) to categorize and prioritize messages. This allows you to selectively capture and view specific levels of messages. You can filter log output based on the log level, which is helpful for debugging and troubleshooting. With print() statements, you don't have built-in levels or filters, making it harder to differentiate and manage messages effectively.\n",
    "\n",
    "Granular control and verbosity: Logging enables you to have fine-grained control over the level of detail in your logs. You can add debug-level messages to provide detailed information during development and troubleshooting, but easily disable them in production. With print() statements, you need to manually add or remove them from your code, leading to cluttered code and potential oversight.\n",
    "\n",
    "Centralized logging configuration: Logging allows you to configure the logging behavior in a central location, such as a configuration file or a logging setup function. This makes it easier to manage and maintain logging across your application or modules. On the other hand, print() statements are typically scattered throughout the code, making it harder to modify or disable them consistently.\n",
    "\n",
    "Integration with existing logging frameworks: Logging integrates well with existing logging frameworks and libraries, providing additional features like log rotation, log file compression, log rotation based on file size or time, logging to remote servers, and more. These features are not readily available with print() statements.\n",
    "\n",
    "Standardized approach: Logging follows a standardized approach for logging messages, making it easier for developers to understand and work with code that adheres to common logging practices. It allows for better collaboration and easier maintenance of codebases."
   ]
  },
  {
   "attachments": {},
   "cell_type": "markdown",
   "metadata": {},
   "source": [
    "9. What are the differences between the Step Over, Step In, and Step Out buttons in the debugger?\n",
    "Ans.Step Over executes the current line and moves to the next line, treating a function call as a single step.\n",
    "Step In navigates to the first line of a function call, allowing you to explore the internal execution of the called function.\n",
    "Step Out continues execution until you exit the current function, quickly bypassing the remaining lines of the function.\n"
   ]
  },
  {
   "attachments": {},
   "cell_type": "markdown",
   "metadata": {},
   "source": [
    "10.After you click Continue, when will the debugger stop ?\n",
    "Ans. After clicking the Continue button in a debugger, the debugger will continue the program's execution without any further interruption until it reaches one of the following conditions:\n",
    "Next Breakpoint: If there are additional breakpoints set in the code, the debugger will stop when it reaches the next breakpoint. Breakpoints act as designated pause points, allowing you to inspect the program's state at specific locations.\n",
    "\n",
    "Exception or Error: If an unhandled exception or error occurs during program execution, the debugger will automatically pause at the point where the exception or error was raised. This provides an opportunity to examine the exception details and investigate the cause.\n",
    "\n",
    "Program Termination: The debugger will also stop when the program naturally completes its execution and terminates.\n"
   ]
  },
  {
   "attachments": {},
   "cell_type": "markdown",
   "metadata": {},
   "source": [
    "11. What is the concept of a breakpoint?\n",
    "Ans.A breakpoint is a debugging feature that allows you to pause the execution of a program at a specific line of code. By setting breakpoints, you can halt the program's execution at strategic points and inspect the program's state, variables, and behavior at that particular moment.\n",
    "When a program reaches a breakpoint during debugging, it enters a \"break\" state, and the debugger takes control. This allows you to examine the program's internal state, step through the code, modify variables, and perform various debugging operations."
   ]
  },
  {
   "attachments": {},
   "cell_type": "markdown",
   "metadata": {},
   "source": []
  },
  {
   "attachments": {},
   "cell_type": "markdown",
   "metadata": {},
   "source": []
  },
  {
   "cell_type": "code",
   "execution_count": null,
   "metadata": {},
   "outputs": [],
   "source": []
  },
  {
   "cell_type": "code",
   "execution_count": null,
   "metadata": {},
   "outputs": [],
   "source": []
  }
 ],
 "metadata": {
  "kernelspec": {
   "display_name": "Python 3",
   "language": "python",
   "name": "python3"
  },
  "language_info": {
   "codemirror_mode": {
    "name": "ipython",
    "version": 3
   },
   "file_extension": ".py",
   "mimetype": "text/x-python",
   "name": "python",
   "nbconvert_exporter": "python",
   "pygments_lexer": "ipython3",
   "version": "3.11.3"
  },
  "orig_nbformat": 4
 },
 "nbformat": 4,
 "nbformat_minor": 2
}
