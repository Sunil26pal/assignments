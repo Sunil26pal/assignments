{
 "cells": [
  {
   "attachments": {},
   "cell_type": "markdown",
   "metadata": {},
   "source": [
    "1.In what modes should the PdfFileReader() and PdfFileWriter() File objects will be opened?\n",
    "Ans. In Python's PyPDF2 library, the PdfFileReader() and PdfFileWriter() objects are used to read from and write to PDF files, respectively. These objects are typically created by passing file objects opened in specific modes. The appropriate modes for each object are as follows:\n",
    "\n",
    "PdfFileReader(): This object is used for reading from an existing PDF file. You should open the file in binary mode ('rb') to ensure that the file is read correctly. The 'r' indicates that the file will be opened for reading, and the 'b' indicates binary mode. \n",
    "\n",
    "PdfFileWriter(): This object is used for creating a new PDF file or modifying an existing one. You should open the file in binary mode ('wb') to ensure that the file is written correctly. The 'w' indicates that the file will be opened for writing, and the 'b' indicates binary mode. Here's an example:"
   ]
  },
  {
   "cell_type": "code",
   "execution_count": null,
   "metadata": {},
   "outputs": [],
   "source": [
    "#ans1.\n",
    "\n",
    "from PyPDF2 import PdfFileReader\n",
    "\n",
    "with open('input.pdf', 'rb') as file:\n",
    "    pdf_reader = PdfFileReader(file)\n",
    "    # Perform operations using pdf_reader object\n",
    "\n",
    "    \n",
    "\n",
    "    from PyPDF2 import PdfFileWriter\n",
    "\n",
    "with open('output.pdf', 'wb') as file:\n",
    "    pdf_writer = PdfFileWriter()\n",
    "    # Perform operations using pdf_writer object\n",
    "    pdf_writer.write(file)\n",
    "\n"
   ]
  },
  {
   "attachments": {},
   "cell_type": "markdown",
   "metadata": {},
   "source": [
    "2. From a PdfFileReader object, how do you get a Page object for page 5?\n"
   ]
  },
  {
   "attachments": {},
   "cell_type": "markdown",
   "metadata": {},
   "source": [
    "ans2.To obtain a Page object for a specific page from a PdfFileReader object in the PyPDF2 library, you can use the getPage() method, passing the page index as the parameter (index starts from 0). To get a Page object for page 5, you would use the following code:"
   ]
  },
  {
   "cell_type": "code",
   "execution_count": null,
   "metadata": {},
   "outputs": [],
   "source": [
    "#Ans.2\n",
    "from PyPDF2 import PdfFileReader\n",
    "\n",
    "with open('input.pdf', 'rb') as file:\n",
    "    pdf_reader = PdfFileReader(file)\n",
    "    page_5 = pdf_reader.getPage(4)  # Page index 4 corresponds to page 5\n",
    "    # Perform operations using the page_5 object\n"
   ]
  },
  {
   "attachments": {},
   "cell_type": "markdown",
   "metadata": {},
   "source": [
    "In the code above, numPages is accessed using the pdf_reader object, which is an instance of the PdfFileReader class. The total_pages variable stores the total number of pages in the PDF document, and it can be printed or used for further processing as needed."
   ]
  },
  {
   "attachments": {},
   "cell_type": "markdown",
   "metadata": {},
   "source": [
    "3. What PdfFileReader variable stores the number of pages in the PDF document?\n",
    "Ans. To retrieve the number of pages in a PDF document using PdfFileReader, you can use the getNumPages() method. Here's an example:"
   ]
  },
  {
   "cell_type": "code",
   "execution_count": 1,
   "metadata": {},
   "outputs": [
    {
     "ename": "ModuleNotFoundError",
     "evalue": "No module named 'PyPDF2'",
     "output_type": "error",
     "traceback": [
      "\u001b[1;31m---------------------------------------------------------------------------\u001b[0m",
      "\u001b[1;31mModuleNotFoundError\u001b[0m                       Traceback (most recent call last)",
      "Cell \u001b[1;32mIn[1], line 1\u001b[0m\n\u001b[1;32m----> 1\u001b[0m \u001b[39mfrom\u001b[39;00m \u001b[39mPyPDF2\u001b[39;00m \u001b[39mimport\u001b[39;00m PdfFileReader\n\u001b[0;32m      3\u001b[0m \u001b[39mwith\u001b[39;00m \u001b[39mopen\u001b[39m(\u001b[39m'\u001b[39m\u001b[39minput.pdf\u001b[39m\u001b[39m'\u001b[39m, \u001b[39m'\u001b[39m\u001b[39mrb\u001b[39m\u001b[39m'\u001b[39m) \u001b[39mas\u001b[39;00m file:\n\u001b[0;32m      4\u001b[0m     pdf_reader \u001b[39m=\u001b[39m PdfFileReader(file)\n",
      "\u001b[1;31mModuleNotFoundError\u001b[0m: No module named 'PyPDF2'"
     ]
    }
   ],
   "source": [
    "from PyPDF2 import PdfFileReader\n",
    "\n",
    "with open('input.pdf', 'rb') as file:\n",
    "    pdf_reader = PdfFileReader(file)\n",
    "    total_pages = pdf_reader.getNumPages()\n",
    "    print(\"Total Pages:\", total_pages)\n"
   ]
  },
  {
   "attachments": {},
   "cell_type": "markdown",
   "metadata": {},
   "source": [
    "4. If a PdfFileReader object’s PDF is encrypted with the password swordfish, what must you do before you can obtain Page objects from it?\n",
    "Ans.If a PdfFileReader object's PDF is encrypted with the password \"swordfish\", you need to decrypt the PDF before you can obtain Page objects from it. Here are the steps to perform before accessing the Page objects:\n",
    "\n",
    "Create a PdfFileReader object by opening the PDF file in binary mode ('rb').\n",
    "Use the decrypt() method of the PdfFileReader object to decrypt the PDF by providing the correct password. In this case, the password would be \"swordfish\".\n",
    "Once the PDF is decrypted, you can proceed to access the Page objects using the regular methods provided by the PdfFileReader class.\n",
    "Here's an example code snippet:"
   ]
  },
  {
   "cell_type": "code",
   "execution_count": null,
   "metadata": {},
   "outputs": [],
   "source": [
    "from PyPDF2 import PdfFileReader\n",
    "\n",
    "with open('encrypted.pdf', 'rb') as file:\n",
    "    pdf_reader = PdfFileReader(file)\n",
    "    pdf_reader.decrypt('swordfish')  # Decrypt the PDF with the password\n",
    "    \n",
    "    # Now you can obtain Page objects\n",
    "    page_1 = pdf_reader.getPage(0)\n",
    "    # Perform operations using the page_1 object\n"
   ]
  },
  {
   "attachments": {},
   "cell_type": "markdown",
   "metadata": {},
   "source": [
    "5. What methods do you use to rotate a page?\n",
    "\n",
    "Ans.To rotate a page in the PyPDF2 library, you can use the rotateClockwise() and rotateCounterClockwise() methods provided by the Page object. These methods allow you to rotate the page clockwise or counterclockwise by specifying the rotation angle.\n",
    "\n",
    "Here's an example of rotating a page clockwise by 90 degrees\n"
   ]
  },
  {
   "cell_type": "code",
   "execution_count": null,
   "metadata": {},
   "outputs": [],
   "source": [
    "from PyPDF2 import PdfFileReader\n",
    "with open(\"input.pdf\",\"rb\") as file:\n",
    "    pdf_reader=PdfFileReader(file)\n",
    "    page=pdf_reader.getpage(0) # get ther first page\n",
    "    page.rotateClockwise(90)# rotate the page by 90 degree clockwise\n",
    "\n",
    "    # create a new pdffilewriter object and add the modified\n",
    "    pdf_writer=PdfFileWriter()\n",
    "    pdf_writer.addPage(page)\n",
    "\n",
    "    with open(\"output.pdf\",\"wb\") as output_file:\n",
    "        pdf_writer.write(output_file)"
   ]
  },
  {
   "attachments": {},
   "cell_type": "markdown",
   "metadata": {},
   "source": [
    "In the code above, we first open the PDF file and obtain the desired page using getPage(). Then, we call rotateClockwise(90) to rotate the page clockwise by 90 degrees. After that, we create a new PdfFileWriter object, add the modified page using addPage(), and finally save the modified PDF to a new file named 'output.pdf'.\n",
    "\n",
    "Similarly, you can use the rotateCounterClockwise() method to rotate the page counterclockwise by specifying a negative angle value."
   ]
  },
  {
   "attachments": {},
   "cell_type": "markdown",
   "metadata": {},
   "source": []
  },
  {
   "attachments": {},
   "cell_type": "markdown",
   "metadata": {},
   "source": [
    "6. What is the difference between a Run object and a Paragraph object?\n",
    "\n",
    "Ans.Run object: A \"Run\" object represents a contiguous run of text within a paragraph that has the same formatting properties. It is a portion of text with consistent styling, such as font, size, color, and other character-level formatting. Runs are used to apply specific formatting to specific parts of a paragraph. For example, if a paragraph contains both regular text and bold text, each portion will be represented as a separate run with different formatting properties.\n",
    "\n",
    "Paragraph object: A \"Paragraph\" object represents a single paragraph of text within a document. It is a block of text that can contain multiple runs. Paragraphs are used to group related text together and apply paragraph-level formatting, such as alignment, indentation, spacing, and styles."
   ]
  },
  {
   "cell_type": "code",
   "execution_count": null,
   "metadata": {},
   "outputs": [],
   "source": []
  },
  {
   "attachments": {},
   "cell_type": "markdown",
   "metadata": {},
   "source": [
    "7. How do you obtain a list of Paragraph objects for a Document object that’s stored in a variable named doc?\n",
    "Ans.To obtain a list of Paragraph objects for a Document object stored in a variable named doc using the python-docx library, you can access the paragraphs attribute of the Document object. Here's an example:"
   ]
  },
  {
   "cell_type": "code",
   "execution_count": null,
   "metadata": {},
   "outputs": [],
   "source": [
    "from docx import Document\n",
    "\n",
    "doc = Document('input.docx')  # Assuming you have already loaded the document\n",
    "\n",
    "paragraphs = doc.paragraphs  # Access the paragraphs attribute to obtain a list of Paragraph objects\n",
    "\n",
    "for paragraph in paragraphs:\n",
    "    # Perform operations with each Paragraph object\n",
    "    print(paragraph.text)  # Print the text content of each paragraph\n"
   ]
  },
  {
   "attachments": {},
   "cell_type": "markdown",
   "metadata": {},
   "source": [
    "8. What type of object has bold, underline, italic, strike, and outline variables?\n",
    "Ans.The python-docx library represents the formatting properties of text using the Font object. The Font object provides several variables to control text formatting, including bold, underline, italic, strike-through, and outline.\n",
    "\n",
    "Here's an example that demonstrates the usage of these variables:"
   ]
  },
  {
   "cell_type": "code",
   "execution_count": null,
   "metadata": {},
   "outputs": [],
   "source": [
    "from docx import Document\n",
    "doc=Document()\n",
    "paragraph = doc.add_paragraph(\"Hello,\")\n",
    "run=paragraph.add_run(\"World!\")\n",
    "run.bold=True\n",
    "run.underline=True\n",
    "run.underline=True\n",
    "run.italic=True\n",
    "run.strike=True\n",
    "run.outline=True\n",
    "\n",
    "doc.save(\"output.docx\")"
   ]
  },
  {
   "attachments": {},
   "cell_type": "markdown",
   "metadata": {},
   "source": [
    "9. What is the difference between False, True, and None for the bold variable?\n",
    "\n",
    "Ans.True:- When the bold variable is set to True, it applies bold formatting to the text represented by the Font object. This means that the text will appear in a bold typeface.\n",
    "\n",
    "False:- When the bold variable is set to False, it explicitly specifies that the text should not be bold. If the text was previously set as bold, this property will override it, ensuring that the text is displayed in a regular typeface.\n",
    "\n",
    "None:- If the bold variable is set to None, it indicates that the text should inherit the boldness setting from the parent style or the default document style. It means that the boldness of the text will be determined by the formatting rules applied to the paragraph or the document style.\n"
   ]
  },
  {
   "attachments": {},
   "cell_type": "markdown",
   "metadata": {},
   "source": [
    "10. How do you create a Document object for a new Word document?\n",
    "\n",
    "Ans.To create a Document object for a new Word document using the python-docx library, you can simply call the Document() constructor without any parameters. This will create an empty Document object that you can populate with content. Here's an example:"
   ]
  },
  {
   "cell_type": "code",
   "execution_count": null,
   "metadata": {},
   "outputs": [],
   "source": [
    "from docx import Document\n",
    "\n",
    "doc = Document()  # Create a new empty Document object\n",
    "\n",
    "# Add content to the document\n",
    "doc.add_paragraph(\"Hello, World!\")\n",
    "doc.add_heading(\"Heading 1\", level=1)\n",
    "# Add more paragraphs, tables, images, etc. as needed\n",
    "\n",
    "# Save the document to a file\n",
    "doc.save(\"new_document.docx\")"
   ]
  },
  {
   "attachments": {},
   "cell_type": "markdown",
   "metadata": {},
   "source": [
    "In the code above, Document() creates a new instance of the Document class, representing an empty Word document. You can then use the various methods provided by the Document class, such as add_paragraph(), add_heading(), and others, to add content to the document.\n",
    "\n",
    "Once you have added the desired content, you can save the document to a file using the save() method, specifying the desired file name and extension. In the example, doc.save(\"new_document.docx\") saves the document to a file named \"new_document.docx\".\n",
    "\n",
    "\n",
    "\n",
    "\n"
   ]
  },
  {
   "attachments": {},
   "cell_type": "markdown",
   "metadata": {},
   "source": [
    "11. How do you add a paragraph with the text 'Hello, there!' to a Document object stored in a variable named doc?\n",
    "\n",
    "Ans.To add a paragraph with the text \"Hello, there!\" to a Document object stored in a variable named doc using the python-docx library, you can use the add_paragraph() method. Here's an example:\n"
   ]
  },
  {
   "cell_type": "code",
   "execution_count": null,
   "metadata": {},
   "outputs": [],
   "source": [
    "from docx import Document\n",
    "\n",
    "doc = Document()  # Assuming you have already created a Document object\n",
    "\n",
    "text = \"Hello, there!\"\n",
    "paragraph = doc.add_paragraph(text)\n",
    "\n",
    "doc.save(\"output.docx\")  # Save the modified document to a file\n"
   ]
  },
  {
   "attachments": {},
   "cell_type": "markdown",
   "metadata": {},
   "source": [
    "In the code above, doc.add_paragraph(text) adds a new paragraph to the Document object doc with the specified text, \"Hello, there!\". The add_paragraph() method returns a Paragraph object representing the newly added paragraph, but you can choose to store it in a variable (paragraph in this case) or not, depending on your requirements.\n",
    "\n",
    "After adding the paragraph, you can save the modified document to a file using the save() method, as shown in doc.save(\"output.docx\"). The modified document with the added paragraph will be saved as \"output.docx\"."
   ]
  },
  {
   "attachments": {},
   "cell_type": "markdown",
   "metadata": {},
   "source": [
    "12. What integers represent the levels of headings available in Word documents?\n",
    "\n",
    "Ans.In Word documents, heading levels are represented by integers ranging from 1 to 9. These integers correspond to the different levels of headings available in Word. Each level has its own formatting and hierarchy within the document structure.\n",
    "\n",
    "Here's a breakdown of the integer values and their corresponding heading levels:\n",
    "\n",
    "Heading Level 1: Represented by the integer value 1.\n",
    "Heading Level 2: Represented by the integer value 2.\n",
    "Heading Level 3: Represented by the integer value 3.\n",
    "Heading Level 4: Represented by the integer value 4.\n",
    "Heading Level 5: Represented by the integer value 5.\n",
    "Heading Level 6: Represented by the integer value 6.\n",
    "Heading Level 7: Represented by the integer value 7.\n",
    "Heading Level 8: Represented by the integer value 8.\n",
    "Heading Level 9: Represented by the integer value 9.\n",
    "These heading levels allow you to create a structured hierarchy of headings within a Word document, enabling easy navigation and organization of content."
   ]
  }
 ],
 "metadata": {
  "kernelspec": {
   "display_name": "Python 3",
   "language": "python",
   "name": "python3"
  },
  "language_info": {
   "codemirror_mode": {
    "name": "ipython",
    "version": 3
   },
   "file_extension": ".py",
   "mimetype": "text/x-python",
   "name": "python",
   "nbconvert_exporter": "python",
   "pygments_lexer": "ipython3",
   "version": "3.11.3"
  },
  "orig_nbformat": 4
 },
 "nbformat": 4,
 "nbformat_minor": 2
}
